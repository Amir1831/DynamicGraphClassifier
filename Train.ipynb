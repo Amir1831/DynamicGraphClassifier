{
 "cells": [
  {
   "cell_type": "code",
   "execution_count": 1,
   "id": "12d5b3a9-45c0-458c-b691-a2c0ae39cdb1",
   "metadata": {},
   "outputs": [
    {
     "name": "stderr",
     "output_type": "stream",
     "text": [
      "/usr/local/lib/python3.10/dist-packages/tqdm/auto.py:21: TqdmWarning: IProgress not found. Please update jupyter and ipywidgets. See https://ipywidgets.readthedocs.io/en/stable/user_install.html\n",
      "  from .autonotebook import tqdm as notebook_tqdm\n"
     ]
    }
   ],
   "source": [
    "from SplitWindows import SplitWindows\n",
    "from AttentionArea import TemporalAttention , SpatialAttention , DynamicMatrix , AttentionBlock\n",
    "from torch_geometric.nn import GCNConv\n",
    "from Config import CONFIG\n",
    "from Dataset import TimeSDataset\n",
    "import engine\n",
    "\n",
    "import numpy as np\n",
    "import pandas as pd \n",
    "import torch\n",
    "from torch import nn\n",
    "from torch_geometric.nn import GCNConv\n",
    "from torch.utils.data import DataLoader\n",
    "\n",
    "Config = CONFIG()\n",
    "device = \"cuda\" if torch.cuda.is_available else \"cpu\""
   ]
  },
  {
   "cell_type": "code",
   "execution_count": 2,
   "id": "9bec1ab0-1ef0-4ce5-8278-b176448b31d8",
   "metadata": {},
   "outputs": [
    {
     "data": {
      "text/plain": [
       "133"
      ]
     },
     "execution_count": 2,
     "metadata": {},
     "output_type": "execute_result"
    }
   ],
   "source": [
    "Config.T"
   ]
  },
  {
   "cell_type": "code",
   "execution_count": 3,
   "id": "62c6e644-2c51-42e2-a1c2-3f3a6b6038a9",
   "metadata": {},
   "outputs": [],
   "source": [
    "### Write the Main Class\n",
    "\n",
    "class DynDeepNet(nn.Module):\n",
    "    def __init__(self ):\n",
    "        super().__init__()\n",
    "        # Define Clf token\n",
    "        self.CLFToken = torch.nn.Parameter(torch.rand(1, Config.T_prim, 1))\n",
    "        # Define Temporal Attention\n",
    "        self.TAttention = TemporalAttention (Config.NUM_H ,Config.V * Config.K_E , Config.HIDDEN_DIM)\n",
    "        # Define Spatial Attention \n",
    "        self.SAttention = SpatialAttention()\n",
    "        # Define Dynamic Matrix\n",
    "        self.Dm = DynamicMatrix()\n",
    "        # Define GCN Layer\n",
    "        self.gcn_layer = GCNConv(in_channels=Config.K_E, out_channels=Config.K_F)\n",
    "        # Define Final Encoder layers\n",
    "        self.Transformer = nn.Sequential(*[AttentionBlock(Config.T * Config.K_F, Config.HIDDEN_DIM, Config.NUM_H, Config.DROP_OUT) for _ in range(Config.NUM_LAYER)])\n",
    "        self.Mlp_head = nn.Sequential(\n",
    "            nn.LayerNorm(Config.T * Config.K_F),\n",
    "            nn.Linear(Config.T * Config.K_F, Config.NUM_CLASS),\n",
    "            torch.nn.Softmax(dim=1)\n",
    "        )\n",
    "        self.Dropout = nn.Dropout(Config.DROP_OUT)\n",
    "        self.Flatten = nn.Flatten(2,-1)\n",
    "    def forward(self,x):\n",
    "        ### Input : (B , T_Prim , V)\n",
    "        B , _ , _ = x.shape\n",
    "        ## ADD CLF TOKEN\n",
    "        CLFToken = self.CLFToken.repeat(B, 1 ,1)\n",
    "        # print(f\"CLFToken Gradeient {self.CLFToken} , {self.CLFToken.shape}\")\n",
    "        x = torch.concatenate([CLFToken, x], axis=-1)\n",
    "        \n",
    "        ## Convert Signal Serie to the Window Signal\n",
    "        x = SplitWindows(x)  ## OutPut : (B , T , V ,P)\n",
    "        ## Temporal Transformer\n",
    "        x = self.TAttention(x)  ## OutPut : (B , T , V , K_E)\n",
    "        ## Spatial Attention\n",
    "        x = self.SAttention(x)    ## OutPut : (B , T , V , K_E)\n",
    "        # Apply Drop out\n",
    "        x = self.Dropout(x)\n",
    "        ## Dynamic Matrix\n",
    "        A = self.Dm(x)           ## OutPut  : (B , T , V , V)\n",
    "        ## GCN Layer\n",
    "        BatchTensor = torch.empty(B, Config.T, Config.V, Config.K_F, dtype=x.dtype, device=x.device)\n",
    "        # Iterate over each graph in the batch\n",
    "        for i in range(B):\n",
    "            # Extract the adjacency matrix for the current graph\n",
    "            adj_i = A[i]  # Shape (T, V, V)\n",
    "            for t in range(Config.T):\n",
    "                # Get the edge indices and weights for the current time step\n",
    "                edge_index = adj_i[t].nonzero(as_tuple=False).T  # Shape (2, E)\n",
    "                edge_weights = adj_i[t][edge_index[0], edge_index[1]]  # Shape (E,)\n",
    "                # Select the corresponding node features for the current time step\n",
    "                x_t = x[i][t]\n",
    "                # Apply the GCN layer\n",
    "                x_t = self.gcn_layer(x_t, edge_index, edge_weight=edge_weights)\n",
    "                # Store the output for the current time step\n",
    "                # out.append(x_t)\n",
    "            BatchTensor[i , t ] = x_t\n",
    "        \n",
    "        # Stack the output to get the final representation\n",
    "        x = BatchTensor  ## OUTPUT : (B , T , V , K_F) \n",
    "        # Transpose\n",
    "        x = x.transpose(1,2)  ## OUTPUT : (B , V , T , K_F)\n",
    "        # Flatten\n",
    "        x = self.Flatten(x)  ## OUTPUT  : (B , V , T * K_F)\n",
    "        # Drop Out\n",
    "        x = self.Dropout(x)\n",
    "        # Apply Final Encoder\n",
    "        x = x.transpose(0,1)\n",
    "        x = self.Transformer(x)   ## OUTPUT : (V , B , T * K_F)\n",
    "        # Apply Linear Head\n",
    "        cls = x[0]\n",
    "        # print(cls)\n",
    "        return self.Mlp_head(cls)\n",
    "\n",
    "Model = DynDeepNet()\n",
    "        "
   ]
  },
  {
   "cell_type": "markdown",
   "id": "c43d7d41-3800-4c90-80df-1e0384cc996e",
   "metadata": {},
   "source": [
    "## Define Dataset & DataLoaders"
   ]
  },
  {
   "cell_type": "code",
   "execution_count": 4,
   "id": "3a9a94b8-f35b-4d70-b036-f6a15080f378",
   "metadata": {},
   "outputs": [],
   "source": [
    "TrainDataset = TimeSDataset(\"../Data/AAL/Train\",\"Gender\",label_path=\"../Data/Behavioral-HCP.csv\")\n",
    "TestDataset = TimeSDataset(\"../Data/AAL/Test\",\"Gender\",label_path=\"../Data/Behavioral-HCP.csv\")"
   ]
  },
  {
   "cell_type": "code",
   "execution_count": 5,
   "id": "100803ea-79c1-4c43-9393-9adeb9abed84",
   "metadata": {},
   "outputs": [],
   "source": [
    "TrainDataLoader = DataLoader(TrainDataset ,Config.B ,shuffle = True ,num_workers= 8)\n",
    "TestDataLoader = DataLoader(TestDataset ,Config.B ,shuffle = False ,num_workers= 8)"
   ]
  },
  {
   "cell_type": "markdown",
   "id": "1b46efd2-15da-41fd-a32f-06c06e60b00a",
   "metadata": {},
   "source": [
    "## Train the model"
   ]
  },
  {
   "cell_type": "code",
   "execution_count": 6,
   "id": "9fa8c903-31ef-42b6-a441-83ac71ae5fad",
   "metadata": {},
   "outputs": [],
   "source": [
    "### \n",
    "LR = 0.1\n",
    "Pivot = 80\n",
    "Part = 1\n",
    "Epochs = 20\n",
    "save_weights = False\n",
    "###\n",
    "optimizer = torch.optim.AdamW(Model.parameters() , LR)\n",
    "loss_fn = torch.nn.CrossEntropyLoss()"
   ]
  },
  {
   "cell_type": "code",
   "execution_count": null,
   "id": "ad0dd7a5-2c55-439b-8a3e-3a20f3bcd9d0",
   "metadata": {},
   "outputs": [
    {
     "name": "stderr",
     "output_type": "stream",
     "text": [
      "  0%|                                                                                                                                                                                                                | 0/20 [00:00<?, ?it/s]"
     ]
    }
   ],
   "source": [
    "results = engine.train(Model , \n",
    "                TrainDataLoader,\n",
    "                TestDataLoader,\n",
    "                optimizer,\n",
    "                loss_fn,\n",
    "                Pivot,\n",
    "                Part,\n",
    "                save_weights,\n",
    "                Epochs,\n",
    "                device)"
   ]
  },
  {
   "cell_type": "code",
   "execution_count": null,
   "id": "75cb65a5-2abf-4dc6-bb56-4c02fa8d5e99",
   "metadata": {},
   "outputs": [],
   "source": []
  }
 ],
 "metadata": {
  "kernelspec": {
   "display_name": "Python 3 (ipykernel)",
   "language": "python",
   "name": "python3"
  },
  "language_info": {
   "codemirror_mode": {
    "name": "ipython",
    "version": 3
   },
   "file_extension": ".py",
   "mimetype": "text/x-python",
   "name": "python",
   "nbconvert_exporter": "python",
   "pygments_lexer": "ipython3",
   "version": "3.10.12"
  }
 },
 "nbformat": 4,
 "nbformat_minor": 5
}
