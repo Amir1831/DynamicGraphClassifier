{
 "cells": [
  {
   "cell_type": "code",
   "execution_count": 1,
   "id": "ac9b6017-1454-4f60-9dd2-470c748a45c9",
   "metadata": {},
   "outputs": [],
   "source": [
    "import numpy as np\n",
    "import pandas as pd \n",
    "import torch\n",
    "from torch import nn\n",
    "from Config import CONFIG\n",
    "Config = CONFIG()\n",
    "time = np.loadtxt(\"../Data/AAL/100408_timeseries.txt\")"
   ]
  },
  {
   "cell_type": "code",
   "execution_count": 2,
   "id": "261c13b7-01f8-4907-ab81-bd00e1e9269e",
   "metadata": {},
   "outputs": [
    {
     "data": {
      "text/plain": [
       "'2.1.1+cu121'"
      ]
     },
     "execution_count": 2,
     "metadata": {},
     "output_type": "execute_result"
    }
   ],
   "source": [
    "torch.__version__"
   ]
  },
  {
   "cell_type": "code",
   "execution_count": 3,
   "id": "d887e774-82ea-41a0-857e-69f6cb889d83",
   "metadata": {},
   "outputs": [
    {
     "data": {
      "text/plain": [
       "(1200, 116)"
      ]
     },
     "execution_count": 3,
     "metadata": {},
     "output_type": "execute_result"
    }
   ],
   "source": [
    "## Entry Serie \n",
    "time.shape"
   ]
  },
  {
   "cell_type": "code",
   "execution_count": 4,
   "id": "f86511be-9076-4648-b3c5-7791db5d7659",
   "metadata": {},
   "outputs": [],
   "source": [
    "from Dataset import TimeSDataset\n",
    "Dataset = TimeSDataset(\"../Data/AAL/\",\"Gender\",label_path=\"../Data/Behavioral-HCP.csv\")"
   ]
  },
  {
   "cell_type": "code",
   "execution_count": 5,
   "id": "eb6a0603-4837-417a-8c28-5ae8410617ba",
   "metadata": {},
   "outputs": [
    {
     "data": {
      "text/plain": [
       "(torch.Size([2, 1200, 116]), tensor(1))"
      ]
     },
     "execution_count": 5,
     "metadata": {},
     "output_type": "execute_result"
    }
   ],
   "source": [
    "data , label = next(iter(Dataset))\n",
    "data = torch.stack([data,data])\n",
    "data.shape , label   ## (B , T_prim , V)"
   ]
  },
  {
   "cell_type": "code",
   "execution_count": 6,
   "id": "885c1de9-b61e-4613-a195-9c2baf6fd2b1",
   "metadata": {},
   "outputs": [
    {
     "name": "stdout",
     "output_type": "stream",
     "text": [
      "First Shape: (1, 1200, 1)\n",
      "After Repeat: (2, 1200, 1)\n",
      "Final Shape: (2, 1200, 117)\n"
     ]
    },
    {
     "data": {
      "text/plain": [
       "(2, 1200, 117)"
      ]
     },
     "execution_count": 6,
     "metadata": {},
     "output_type": "execute_result"
    }
   ],
   "source": [
    "## Add CLFToken to our data . \n",
    "CLFToken = np.random.rand(1, Config.T_prim, 1)\n",
    "print(f\"First Shape: {CLFToken.shape}\")\n",
    "\n",
    "CLFToken = np.repeat(CLFToken, Config.B, axis=0)\n",
    "print(f\"After Repeat: {CLFToken.shape}\")\n",
    "\n",
    "data = np.concatenate([CLFToken, data], axis=-1)\n",
    "print(f\"Final Shape: {data.shape}\")\n",
    "data.shape"
   ]
  },
  {
   "cell_type": "code",
   "execution_count": 7,
   "id": "d8f24530-f735-464b-a0f4-ced57705fd21",
   "metadata": {},
   "outputs": [
    {
     "data": {
      "text/plain": [
       "torch.Size([])"
      ]
     },
     "execution_count": 7,
     "metadata": {},
     "output_type": "execute_result"
    }
   ],
   "source": [
    "label.shape"
   ]
  },
  {
   "cell_type": "code",
   "execution_count": 8,
   "id": "5457ffc1-713b-4ec8-9c39-7f3d28568f6a",
   "metadata": {
    "scrolled": true
   },
   "outputs": [],
   "source": [
    "from SplitWindows import SplitWindows\n",
    "import torch\n",
    "SplitedSeries = SplitWindows(data)"
   ]
  },
  {
   "cell_type": "code",
   "execution_count": 9,
   "id": "c2092a40-d2c3-4052-995e-9f21cd9d2a4f",
   "metadata": {},
   "outputs": [
    {
     "data": {
      "text/plain": [
       "torch.Size([2, 105, 117, 20])"
      ]
     },
     "execution_count": 9,
     "metadata": {},
     "output_type": "execute_result"
    }
   ],
   "source": [
    "SplitedSeries.shape   # ( B , T , V , P )"
   ]
  },
  {
   "cell_type": "code",
   "execution_count": 10,
   "id": "fd9b6970-f1d2-4f54-ac6f-f81c87791545",
   "metadata": {},
   "outputs": [
    {
     "data": {
      "text/plain": [
       "105"
      ]
     },
     "execution_count": 10,
     "metadata": {},
     "output_type": "execute_result"
    }
   ],
   "source": [
    "Config.T"
   ]
  },
  {
   "cell_type": "code",
   "execution_count": 11,
   "id": "680b5918-7f82-4812-9d6d-52f003cf869f",
   "metadata": {},
   "outputs": [],
   "source": [
    "from AttentionArea import TemporalAttention , SpatialAttention\n",
    "TAttention = TemporalAttention (num_heads = 8 ,input_dim = Config.V * Config.K_E , hidden_dim=32 )"
   ]
  },
  {
   "cell_type": "code",
   "execution_count": 12,
   "id": "19c9e62e-3074-4658-9bdb-06b22227e2c4",
   "metadata": {},
   "outputs": [
    {
     "name": "stdout",
     "output_type": "stream",
     "text": [
      "torch.Size([105, 2, 4680])\n",
      "torch.Size([105, 2, 4680])\n"
     ]
    },
    {
     "data": {
      "text/plain": [
       "torch.Size([2, 105, 117, 40])"
      ]
     },
     "execution_count": 12,
     "metadata": {},
     "output_type": "execute_result"
    }
   ],
   "source": [
    "Temporal_output = TAttention(SplitedSeries)\n",
    "# (B , T , V , K_E)\n",
    "Temporal_output.shape"
   ]
  },
  {
   "cell_type": "code",
   "execution_count": 13,
   "id": "ad9c321d-8a1d-46f0-af28-c50a493d13af",
   "metadata": {},
   "outputs": [],
   "source": [
    "# Spatial_output = SAttention(Temporal_output)"
   ]
  },
  {
   "cell_type": "code",
   "execution_count": 14,
   "id": "0d0b216c-f19e-407f-ab94-afeaa636a7b8",
   "metadata": {},
   "outputs": [
    {
     "data": {
      "text/plain": [
       "4680"
      ]
     },
     "execution_count": 14,
     "metadata": {},
     "output_type": "execute_result"
    }
   ],
   "source": [
    "Config.V * Config.K_E \n"
   ]
  },
  {
   "cell_type": "code",
   "execution_count": 15,
   "id": "48e2c2e9-90d1-4a37-be19-641a8b8b4fd7",
   "metadata": {},
   "outputs": [
    {
     "data": {
      "text/plain": [
       "torch.Size([2, 105, 117, 117])"
      ]
     },
     "execution_count": 15,
     "metadata": {},
     "output_type": "execute_result"
    }
   ],
   "source": [
    "from AttentionArea import DynamicMatrix\n",
    "DM = DynamicMatrix()\n",
    "weights = DM(Temporal_output)\n",
    "weights.shape"
   ]
  },
  {
   "cell_type": "code",
   "execution_count": 16,
   "id": "f4d40853-4e05-4a4a-9092-271386de2eb9",
   "metadata": {},
   "outputs": [
    {
     "data": {
      "text/plain": [
       "torch.Size([2, 105, 117, 40])"
      ]
     },
     "execution_count": 16,
     "metadata": {},
     "output_type": "execute_result"
    }
   ],
   "source": [
    "from AttentionArea import SpatialAttention\n",
    "ST = SpatialAttention()\n",
    "SpatialOut = ST(Temporal_output)\n",
    "SpatialOut.shape"
   ]
  },
  {
   "cell_type": "code",
   "execution_count": 17,
   "id": "6158e117-bf96-41e3-aadb-c2da52bed96d",
   "metadata": {},
   "outputs": [
    {
     "name": "stderr",
     "output_type": "stream",
     "text": [
      "/usr/local/lib/python3.10/dist-packages/tqdm/auto.py:21: TqdmWarning: IProgress not found. Please update jupyter and ipywidgets. See https://ipywidgets.readthedocs.io/en/stable/user_install.html\n",
      "  from .autonotebook import tqdm as notebook_tqdm\n"
     ]
    }
   ],
   "source": [
    "from torch_geometric.nn import GCNConv "
   ]
  },
  {
   "cell_type": "code",
   "execution_count": 19,
   "id": "3ebfa38d-aa56-443b-a9c0-cc866d63e703",
   "metadata": {},
   "outputs": [
    {
     "data": {
      "text/plain": [
       "tensor(0., grad_fn=<SelectBackward0>)"
      ]
     },
     "execution_count": 19,
     "metadata": {},
     "output_type": "execute_result"
    }
   ],
   "source": [
    "weights[1][1][0][16]"
   ]
  },
  {
   "cell_type": "code",
   "execution_count": 20,
   "id": "b8012011-58a4-4825-924f-74d4fc869baa",
   "metadata": {
    "scrolled": true
   },
   "outputs": [
    {
     "name": "stdout",
     "output_type": "stream",
     "text": [
      "edge_index SHAPE : torch.Size([2, 354])\n",
      "edge_weights SHAPE : torch.Size([354])\n",
      "x_t SHAPE : torch.Size([117, 40])\n",
      "edge_index SHAPE : torch.Size([2, 310])\n",
      "edge_weights SHAPE : torch.Size([310])\n",
      "x_t SHAPE : torch.Size([117, 40])\n",
      "edge_index SHAPE : torch.Size([2, 678])\n",
      "edge_weights SHAPE : torch.Size([678])\n",
      "x_t SHAPE : torch.Size([117, 40])\n",
      "edge_index SHAPE : torch.Size([2, 473])\n",
      "edge_weights SHAPE : torch.Size([473])\n",
      "x_t SHAPE : torch.Size([117, 40])\n",
      "edge_index SHAPE : torch.Size([2, 333])\n",
      "edge_weights SHAPE : torch.Size([333])\n",
      "x_t SHAPE : torch.Size([117, 40])\n",
      "edge_index SHAPE : torch.Size([2, 382])\n",
      "edge_weights SHAPE : torch.Size([382])\n",
      "x_t SHAPE : torch.Size([117, 40])\n",
      "edge_index SHAPE : torch.Size([2, 1240])\n",
      "edge_weights SHAPE : torch.Size([1240])\n",
      "x_t SHAPE : torch.Size([117, 40])\n",
      "edge_index SHAPE : torch.Size([2, 363])\n",
      "edge_weights SHAPE : torch.Size([363])\n",
      "x_t SHAPE : torch.Size([117, 40])\n",
      "edge_index SHAPE : torch.Size([2, 181])\n",
      "edge_weights SHAPE : torch.Size([181])\n",
      "x_t SHAPE : torch.Size([117, 40])\n",
      "edge_index SHAPE : torch.Size([2, 828])\n",
      "edge_weights SHAPE : torch.Size([828])\n",
      "x_t SHAPE : torch.Size([117, 40])\n",
      "edge_index SHAPE : torch.Size([2, 637])\n",
      "edge_weights SHAPE : torch.Size([637])\n",
      "x_t SHAPE : torch.Size([117, 40])\n",
      "edge_index SHAPE : torch.Size([2, 1184])\n",
      "edge_weights SHAPE : torch.Size([1184])\n",
      "x_t SHAPE : torch.Size([117, 40])\n",
      "edge_index SHAPE : torch.Size([2, 621])\n",
      "edge_weights SHAPE : torch.Size([621])\n",
      "x_t SHAPE : torch.Size([117, 40])\n",
      "edge_index SHAPE : torch.Size([2, 395])\n",
      "edge_weights SHAPE : torch.Size([395])\n",
      "x_t SHAPE : torch.Size([117, 40])\n",
      "edge_index SHAPE : torch.Size([2, 528])\n",
      "edge_weights SHAPE : torch.Size([528])\n",
      "x_t SHAPE : torch.Size([117, 40])\n",
      "edge_index SHAPE : torch.Size([2, 280])\n",
      "edge_weights SHAPE : torch.Size([280])\n",
      "x_t SHAPE : torch.Size([117, 40])\n",
      "edge_index SHAPE : torch.Size([2, 774])\n",
      "edge_weights SHAPE : torch.Size([774])\n",
      "x_t SHAPE : torch.Size([117, 40])\n",
      "edge_index SHAPE : torch.Size([2, 432])\n",
      "edge_weights SHAPE : torch.Size([432])\n",
      "x_t SHAPE : torch.Size([117, 40])\n",
      "edge_index SHAPE : torch.Size([2, 1377])\n",
      "edge_weights SHAPE : torch.Size([1377])\n",
      "x_t SHAPE : torch.Size([117, 40])\n",
      "edge_index SHAPE : torch.Size([2, 647])\n",
      "edge_weights SHAPE : torch.Size([647])\n",
      "x_t SHAPE : torch.Size([117, 40])\n",
      "edge_index SHAPE : torch.Size([2, 697])\n",
      "edge_weights SHAPE : torch.Size([697])\n",
      "x_t SHAPE : torch.Size([117, 40])\n",
      "edge_index SHAPE : torch.Size([2, 902])\n",
      "edge_weights SHAPE : torch.Size([902])\n",
      "x_t SHAPE : torch.Size([117, 40])\n",
      "edge_index SHAPE : torch.Size([2, 387])\n",
      "edge_weights SHAPE : torch.Size([387])\n",
      "x_t SHAPE : torch.Size([117, 40])\n",
      "edge_index SHAPE : torch.Size([2, 1359])\n",
      "edge_weights SHAPE : torch.Size([1359])\n",
      "x_t SHAPE : torch.Size([117, 40])\n",
      "edge_index SHAPE : torch.Size([2, 686])\n",
      "edge_weights SHAPE : torch.Size([686])\n",
      "x_t SHAPE : torch.Size([117, 40])\n",
      "edge_index SHAPE : torch.Size([2, 662])\n",
      "edge_weights SHAPE : torch.Size([662])\n",
      "x_t SHAPE : torch.Size([117, 40])\n",
      "edge_index SHAPE : torch.Size([2, 260])\n",
      "edge_weights SHAPE : torch.Size([260])\n",
      "x_t SHAPE : torch.Size([117, 40])\n",
      "edge_index SHAPE : torch.Size([2, 1129])\n",
      "edge_weights SHAPE : torch.Size([1129])\n",
      "x_t SHAPE : torch.Size([117, 40])\n",
      "edge_index SHAPE : torch.Size([2, 451])\n",
      "edge_weights SHAPE : torch.Size([451])\n",
      "x_t SHAPE : torch.Size([117, 40])\n",
      "edge_index SHAPE : torch.Size([2, 414])\n",
      "edge_weights SHAPE : torch.Size([414])\n",
      "x_t SHAPE : torch.Size([117, 40])\n",
      "edge_index SHAPE : torch.Size([2, 441])\n",
      "edge_weights SHAPE : torch.Size([441])\n",
      "x_t SHAPE : torch.Size([117, 40])\n",
      "edge_index SHAPE : torch.Size([2, 642])\n",
      "edge_weights SHAPE : torch.Size([642])\n",
      "x_t SHAPE : torch.Size([117, 40])\n",
      "edge_index SHAPE : torch.Size([2, 276])\n",
      "edge_weights SHAPE : torch.Size([276])\n",
      "x_t SHAPE : torch.Size([117, 40])\n",
      "edge_index SHAPE : torch.Size([2, 795])\n",
      "edge_weights SHAPE : torch.Size([795])\n",
      "x_t SHAPE : torch.Size([117, 40])\n",
      "edge_index SHAPE : torch.Size([2, 556])\n",
      "edge_weights SHAPE : torch.Size([556])\n",
      "x_t SHAPE : torch.Size([117, 40])\n",
      "edge_index SHAPE : torch.Size([2, 422])\n",
      "edge_weights SHAPE : torch.Size([422])\n",
      "x_t SHAPE : torch.Size([117, 40])\n",
      "edge_index SHAPE : torch.Size([2, 911])\n",
      "edge_weights SHAPE : torch.Size([911])\n",
      "x_t SHAPE : torch.Size([117, 40])\n",
      "edge_index SHAPE : torch.Size([2, 859])\n",
      "edge_weights SHAPE : torch.Size([859])\n",
      "x_t SHAPE : torch.Size([117, 40])\n",
      "edge_index SHAPE : torch.Size([2, 424])\n",
      "edge_weights SHAPE : torch.Size([424])\n",
      "x_t SHAPE : torch.Size([117, 40])\n",
      "edge_index SHAPE : torch.Size([2, 696])\n",
      "edge_weights SHAPE : torch.Size([696])\n",
      "x_t SHAPE : torch.Size([117, 40])\n",
      "edge_index SHAPE : torch.Size([2, 504])\n",
      "edge_weights SHAPE : torch.Size([504])\n",
      "x_t SHAPE : torch.Size([117, 40])\n",
      "edge_index SHAPE : torch.Size([2, 1887])\n",
      "edge_weights SHAPE : torch.Size([1887])\n",
      "x_t SHAPE : torch.Size([117, 40])\n",
      "edge_index SHAPE : torch.Size([2, 1041])\n",
      "edge_weights SHAPE : torch.Size([1041])\n",
      "x_t SHAPE : torch.Size([117, 40])\n",
      "edge_index SHAPE : torch.Size([2, 667])\n",
      "edge_weights SHAPE : torch.Size([667])\n",
      "x_t SHAPE : torch.Size([117, 40])\n",
      "edge_index SHAPE : torch.Size([2, 112])\n",
      "edge_weights SHAPE : torch.Size([112])\n",
      "x_t SHAPE : torch.Size([117, 40])\n",
      "edge_index SHAPE : torch.Size([2, 1117])\n",
      "edge_weights SHAPE : torch.Size([1117])\n",
      "x_t SHAPE : torch.Size([117, 40])\n",
      "edge_index SHAPE : torch.Size([2, 539])\n",
      "edge_weights SHAPE : torch.Size([539])\n",
      "x_t SHAPE : torch.Size([117, 40])\n",
      "edge_index SHAPE : torch.Size([2, 358])\n",
      "edge_weights SHAPE : torch.Size([358])\n",
      "x_t SHAPE : torch.Size([117, 40])\n",
      "edge_index SHAPE : torch.Size([2, 468])\n",
      "edge_weights SHAPE : torch.Size([468])\n",
      "x_t SHAPE : torch.Size([117, 40])\n",
      "edge_index SHAPE : torch.Size([2, 407])\n",
      "edge_weights SHAPE : torch.Size([407])\n",
      "x_t SHAPE : torch.Size([117, 40])\n",
      "edge_index SHAPE : torch.Size([2, 837])\n",
      "edge_weights SHAPE : torch.Size([837])\n",
      "x_t SHAPE : torch.Size([117, 40])\n",
      "edge_index SHAPE : torch.Size([2, 420])\n",
      "edge_weights SHAPE : torch.Size([420])\n",
      "x_t SHAPE : torch.Size([117, 40])\n",
      "edge_index SHAPE : torch.Size([2, 368])\n",
      "edge_weights SHAPE : torch.Size([368])\n",
      "x_t SHAPE : torch.Size([117, 40])\n",
      "edge_index SHAPE : torch.Size([2, 1024])\n",
      "edge_weights SHAPE : torch.Size([1024])\n",
      "x_t SHAPE : torch.Size([117, 40])\n",
      "edge_index SHAPE : torch.Size([2, 475])\n",
      "edge_weights SHAPE : torch.Size([475])\n",
      "x_t SHAPE : torch.Size([117, 40])\n",
      "edge_index SHAPE : torch.Size([2, 543])\n",
      "edge_weights SHAPE : torch.Size([543])\n",
      "x_t SHAPE : torch.Size([117, 40])\n",
      "edge_index SHAPE : torch.Size([2, 188])\n",
      "edge_weights SHAPE : torch.Size([188])\n",
      "x_t SHAPE : torch.Size([117, 40])\n",
      "edge_index SHAPE : torch.Size([2, 543])\n",
      "edge_weights SHAPE : torch.Size([543])\n",
      "x_t SHAPE : torch.Size([117, 40])\n",
      "edge_index SHAPE : torch.Size([2, 596])\n",
      "edge_weights SHAPE : torch.Size([596])\n",
      "x_t SHAPE : torch.Size([117, 40])\n",
      "edge_index SHAPE : torch.Size([2, 312])\n",
      "edge_weights SHAPE : torch.Size([312])\n",
      "x_t SHAPE : torch.Size([117, 40])\n",
      "edge_index SHAPE : torch.Size([2, 514])\n",
      "edge_weights SHAPE : torch.Size([514])\n",
      "x_t SHAPE : torch.Size([117, 40])\n",
      "edge_index SHAPE : torch.Size([2, 1123])\n",
      "edge_weights SHAPE : torch.Size([1123])\n",
      "x_t SHAPE : torch.Size([117, 40])\n",
      "edge_index SHAPE : torch.Size([2, 303])\n",
      "edge_weights SHAPE : torch.Size([303])\n",
      "x_t SHAPE : torch.Size([117, 40])\n",
      "edge_index SHAPE : torch.Size([2, 918])\n",
      "edge_weights SHAPE : torch.Size([918])\n",
      "x_t SHAPE : torch.Size([117, 40])\n",
      "edge_index SHAPE : torch.Size([2, 1095])\n",
      "edge_weights SHAPE : torch.Size([1095])\n",
      "x_t SHAPE : torch.Size([117, 40])\n",
      "edge_index SHAPE : torch.Size([2, 370])\n",
      "edge_weights SHAPE : torch.Size([370])\n",
      "x_t SHAPE : torch.Size([117, 40])\n",
      "edge_index SHAPE : torch.Size([2, 1182])\n",
      "edge_weights SHAPE : torch.Size([1182])\n",
      "x_t SHAPE : torch.Size([117, 40])\n",
      "edge_index SHAPE : torch.Size([2, 619])\n",
      "edge_weights SHAPE : torch.Size([619])\n",
      "x_t SHAPE : torch.Size([117, 40])\n",
      "edge_index SHAPE : torch.Size([2, 482])\n",
      "edge_weights SHAPE : torch.Size([482])\n",
      "x_t SHAPE : torch.Size([117, 40])\n",
      "edge_index SHAPE : torch.Size([2, 208])\n",
      "edge_weights SHAPE : torch.Size([208])\n",
      "x_t SHAPE : torch.Size([117, 40])\n",
      "edge_index SHAPE : torch.Size([2, 930])\n",
      "edge_weights SHAPE : torch.Size([930])\n",
      "x_t SHAPE : torch.Size([117, 40])\n",
      "edge_index SHAPE : torch.Size([2, 280])\n",
      "edge_weights SHAPE : torch.Size([280])\n",
      "x_t SHAPE : torch.Size([117, 40])\n",
      "edge_index SHAPE : torch.Size([2, 1034])\n",
      "edge_weights SHAPE : torch.Size([1034])\n",
      "x_t SHAPE : torch.Size([117, 40])\n",
      "edge_index SHAPE : torch.Size([2, 1218])\n",
      "edge_weights SHAPE : torch.Size([1218])\n",
      "x_t SHAPE : torch.Size([117, 40])\n",
      "edge_index SHAPE : torch.Size([2, 287])\n",
      "edge_weights SHAPE : torch.Size([287])\n",
      "x_t SHAPE : torch.Size([117, 40])\n",
      "edge_index SHAPE : torch.Size([2, 808])\n",
      "edge_weights SHAPE : torch.Size([808])\n",
      "x_t SHAPE : torch.Size([117, 40])\n",
      "edge_index SHAPE : torch.Size([2, 181])\n",
      "edge_weights SHAPE : torch.Size([181])\n",
      "x_t SHAPE : torch.Size([117, 40])\n",
      "edge_index SHAPE : torch.Size([2, 665])\n",
      "edge_weights SHAPE : torch.Size([665])\n",
      "x_t SHAPE : torch.Size([117, 40])\n",
      "edge_index SHAPE : torch.Size([2, 904])\n",
      "edge_weights SHAPE : torch.Size([904])\n",
      "x_t SHAPE : torch.Size([117, 40])\n",
      "edge_index SHAPE : torch.Size([2, 627])\n",
      "edge_weights SHAPE : torch.Size([627])\n",
      "x_t SHAPE : torch.Size([117, 40])\n",
      "edge_index SHAPE : torch.Size([2, 1142])\n",
      "edge_weights SHAPE : torch.Size([1142])\n",
      "x_t SHAPE : torch.Size([117, 40])\n",
      "edge_index SHAPE : torch.Size([2, 782])\n",
      "edge_weights SHAPE : torch.Size([782])\n",
      "x_t SHAPE : torch.Size([117, 40])\n",
      "edge_index SHAPE : torch.Size([2, 598])\n",
      "edge_weights SHAPE : torch.Size([598])\n",
      "x_t SHAPE : torch.Size([117, 40])\n",
      "edge_index SHAPE : torch.Size([2, 656])\n",
      "edge_weights SHAPE : torch.Size([656])\n",
      "x_t SHAPE : torch.Size([117, 40])\n",
      "edge_index SHAPE : torch.Size([2, 438])\n",
      "edge_weights SHAPE : torch.Size([438])\n",
      "x_t SHAPE : torch.Size([117, 40])\n",
      "edge_index SHAPE : torch.Size([2, 279])\n",
      "edge_weights SHAPE : torch.Size([279])\n",
      "x_t SHAPE : torch.Size([117, 40])\n",
      "edge_index SHAPE : torch.Size([2, 494])\n",
      "edge_weights SHAPE : torch.Size([494])\n",
      "x_t SHAPE : torch.Size([117, 40])\n",
      "edge_index SHAPE : torch.Size([2, 671])\n",
      "edge_weights SHAPE : torch.Size([671])\n",
      "x_t SHAPE : torch.Size([117, 40])\n",
      "edge_index SHAPE : torch.Size([2, 326])\n",
      "edge_weights SHAPE : torch.Size([326])\n",
      "x_t SHAPE : torch.Size([117, 40])\n",
      "edge_index SHAPE : torch.Size([2, 200])\n",
      "edge_weights SHAPE : torch.Size([200])\n",
      "x_t SHAPE : torch.Size([117, 40])\n",
      "edge_index SHAPE : torch.Size([2, 242])\n",
      "edge_weights SHAPE : torch.Size([242])\n",
      "x_t SHAPE : torch.Size([117, 40])\n",
      "edge_index SHAPE : torch.Size([2, 302])\n",
      "edge_weights SHAPE : torch.Size([302])\n",
      "x_t SHAPE : torch.Size([117, 40])\n",
      "edge_index SHAPE : torch.Size([2, 536])\n",
      "edge_weights SHAPE : torch.Size([536])\n",
      "x_t SHAPE : torch.Size([117, 40])\n",
      "edge_index SHAPE : torch.Size([2, 809])\n",
      "edge_weights SHAPE : torch.Size([809])\n",
      "x_t SHAPE : torch.Size([117, 40])\n",
      "edge_index SHAPE : torch.Size([2, 914])\n",
      "edge_weights SHAPE : torch.Size([914])\n",
      "x_t SHAPE : torch.Size([117, 40])\n",
      "edge_index SHAPE : torch.Size([2, 289])\n",
      "edge_weights SHAPE : torch.Size([289])\n",
      "x_t SHAPE : torch.Size([117, 40])\n",
      "edge_index SHAPE : torch.Size([2, 363])\n",
      "edge_weights SHAPE : torch.Size([363])\n",
      "x_t SHAPE : torch.Size([117, 40])\n",
      "edge_index SHAPE : torch.Size([2, 769])\n",
      "edge_weights SHAPE : torch.Size([769])\n",
      "x_t SHAPE : torch.Size([117, 40])\n",
      "edge_index SHAPE : torch.Size([2, 553])\n",
      "edge_weights SHAPE : torch.Size([553])\n",
      "x_t SHAPE : torch.Size([117, 40])\n",
      "edge_index SHAPE : torch.Size([2, 500])\n",
      "edge_weights SHAPE : torch.Size([500])\n",
      "x_t SHAPE : torch.Size([117, 40])\n",
      "edge_index SHAPE : torch.Size([2, 880])\n",
      "edge_weights SHAPE : torch.Size([880])\n",
      "x_t SHAPE : torch.Size([117, 40])\n",
      "edge_index SHAPE : torch.Size([2, 486])\n",
      "edge_weights SHAPE : torch.Size([486])\n",
      "x_t SHAPE : torch.Size([117, 40])\n",
      "edge_index SHAPE : torch.Size([2, 529])\n",
      "edge_weights SHAPE : torch.Size([529])\n",
      "x_t SHAPE : torch.Size([117, 40])\n",
      "edge_index SHAPE : torch.Size([2, 285])\n",
      "edge_weights SHAPE : torch.Size([285])\n",
      "x_t SHAPE : torch.Size([117, 40])\n",
      "edge_index SHAPE : torch.Size([2, 216])\n",
      "edge_weights SHAPE : torch.Size([216])\n",
      "x_t SHAPE : torch.Size([117, 40])\n",
      "edge_index SHAPE : torch.Size([2, 455])\n",
      "edge_weights SHAPE : torch.Size([455])\n",
      "x_t SHAPE : torch.Size([117, 40])\n",
      "edge_index SHAPE : torch.Size([2, 196])\n",
      "edge_weights SHAPE : torch.Size([196])\n",
      "x_t SHAPE : torch.Size([117, 40])\n",
      "edge_index SHAPE : torch.Size([2, 397])\n",
      "edge_weights SHAPE : torch.Size([397])\n",
      "x_t SHAPE : torch.Size([117, 40])\n",
      "edge_index SHAPE : torch.Size([2, 317])\n",
      "edge_weights SHAPE : torch.Size([317])\n",
      "x_t SHAPE : torch.Size([117, 40])\n",
      "edge_index SHAPE : torch.Size([2, 182])\n",
      "edge_weights SHAPE : torch.Size([182])\n",
      "x_t SHAPE : torch.Size([117, 40])\n",
      "edge_index SHAPE : torch.Size([2, 655])\n",
      "edge_weights SHAPE : torch.Size([655])\n",
      "x_t SHAPE : torch.Size([117, 40])\n",
      "edge_index SHAPE : torch.Size([2, 1023])\n",
      "edge_weights SHAPE : torch.Size([1023])\n",
      "x_t SHAPE : torch.Size([117, 40])\n",
      "edge_index SHAPE : torch.Size([2, 663])\n",
      "edge_weights SHAPE : torch.Size([663])\n",
      "x_t SHAPE : torch.Size([117, 40])\n",
      "edge_index SHAPE : torch.Size([2, 190])\n",
      "edge_weights SHAPE : torch.Size([190])\n",
      "x_t SHAPE : torch.Size([117, 40])\n",
      "edge_index SHAPE : torch.Size([2, 747])\n",
      "edge_weights SHAPE : torch.Size([747])\n",
      "x_t SHAPE : torch.Size([117, 40])\n",
      "edge_index SHAPE : torch.Size([2, 414])\n",
      "edge_weights SHAPE : torch.Size([414])\n",
      "x_t SHAPE : torch.Size([117, 40])\n",
      "edge_index SHAPE : torch.Size([2, 989])\n",
      "edge_weights SHAPE : torch.Size([989])\n",
      "x_t SHAPE : torch.Size([117, 40])\n",
      "edge_index SHAPE : torch.Size([2, 605])\n",
      "edge_weights SHAPE : torch.Size([605])\n",
      "x_t SHAPE : torch.Size([117, 40])\n",
      "edge_index SHAPE : torch.Size([2, 719])\n",
      "edge_weights SHAPE : torch.Size([719])\n",
      "x_t SHAPE : torch.Size([117, 40])\n",
      "edge_index SHAPE : torch.Size([2, 241])\n",
      "edge_weights SHAPE : torch.Size([241])\n",
      "x_t SHAPE : torch.Size([117, 40])\n",
      "edge_index SHAPE : torch.Size([2, 296])\n",
      "edge_weights SHAPE : torch.Size([296])\n",
      "x_t SHAPE : torch.Size([117, 40])\n",
      "edge_index SHAPE : torch.Size([2, 403])\n",
      "edge_weights SHAPE : torch.Size([403])\n",
      "x_t SHAPE : torch.Size([117, 40])\n",
      "edge_index SHAPE : torch.Size([2, 467])\n",
      "edge_weights SHAPE : torch.Size([467])\n",
      "x_t SHAPE : torch.Size([117, 40])\n",
      "edge_index SHAPE : torch.Size([2, 1554])\n",
      "edge_weights SHAPE : torch.Size([1554])\n",
      "x_t SHAPE : torch.Size([117, 40])\n",
      "edge_index SHAPE : torch.Size([2, 236])\n",
      "edge_weights SHAPE : torch.Size([236])\n",
      "x_t SHAPE : torch.Size([117, 40])\n",
      "edge_index SHAPE : torch.Size([2, 405])\n",
      "edge_weights SHAPE : torch.Size([405])\n",
      "x_t SHAPE : torch.Size([117, 40])\n",
      "edge_index SHAPE : torch.Size([2, 655])\n",
      "edge_weights SHAPE : torch.Size([655])\n",
      "x_t SHAPE : torch.Size([117, 40])\n",
      "edge_index SHAPE : torch.Size([2, 305])\n",
      "edge_weights SHAPE : torch.Size([305])\n",
      "x_t SHAPE : torch.Size([117, 40])\n",
      "edge_index SHAPE : torch.Size([2, 591])\n",
      "edge_weights SHAPE : torch.Size([591])\n",
      "x_t SHAPE : torch.Size([117, 40])\n",
      "edge_index SHAPE : torch.Size([2, 779])\n",
      "edge_weights SHAPE : torch.Size([779])\n",
      "x_t SHAPE : torch.Size([117, 40])\n",
      "edge_index SHAPE : torch.Size([2, 1019])\n",
      "edge_weights SHAPE : torch.Size([1019])\n",
      "x_t SHAPE : torch.Size([117, 40])\n",
      "edge_index SHAPE : torch.Size([2, 663])\n",
      "edge_weights SHAPE : torch.Size([663])\n",
      "x_t SHAPE : torch.Size([117, 40])\n",
      "edge_index SHAPE : torch.Size([2, 912])\n",
      "edge_weights SHAPE : torch.Size([912])\n",
      "x_t SHAPE : torch.Size([117, 40])\n",
      "edge_index SHAPE : torch.Size([2, 449])\n",
      "edge_weights SHAPE : torch.Size([449])\n",
      "x_t SHAPE : torch.Size([117, 40])\n",
      "edge_index SHAPE : torch.Size([2, 418])\n",
      "edge_weights SHAPE : torch.Size([418])\n",
      "x_t SHAPE : torch.Size([117, 40])\n",
      "edge_index SHAPE : torch.Size([2, 174])\n",
      "edge_weights SHAPE : torch.Size([174])\n",
      "x_t SHAPE : torch.Size([117, 40])\n",
      "edge_index SHAPE : torch.Size([2, 622])\n",
      "edge_weights SHAPE : torch.Size([622])\n",
      "x_t SHAPE : torch.Size([117, 40])\n",
      "edge_index SHAPE : torch.Size([2, 116])\n",
      "edge_weights SHAPE : torch.Size([116])\n",
      "x_t SHAPE : torch.Size([117, 40])\n",
      "edge_index SHAPE : torch.Size([2, 1020])\n",
      "edge_weights SHAPE : torch.Size([1020])\n",
      "x_t SHAPE : torch.Size([117, 40])\n",
      "edge_index SHAPE : torch.Size([2, 638])\n",
      "edge_weights SHAPE : torch.Size([638])\n",
      "x_t SHAPE : torch.Size([117, 40])\n",
      "edge_index SHAPE : torch.Size([2, 345])\n",
      "edge_weights SHAPE : torch.Size([345])\n",
      "x_t SHAPE : torch.Size([117, 40])\n",
      "edge_index SHAPE : torch.Size([2, 493])\n",
      "edge_weights SHAPE : torch.Size([493])\n",
      "x_t SHAPE : torch.Size([117, 40])\n",
      "edge_index SHAPE : torch.Size([2, 755])\n",
      "edge_weights SHAPE : torch.Size([755])\n",
      "x_t SHAPE : torch.Size([117, 40])\n",
      "edge_index SHAPE : torch.Size([2, 406])\n",
      "edge_weights SHAPE : torch.Size([406])\n",
      "x_t SHAPE : torch.Size([117, 40])\n",
      "edge_index SHAPE : torch.Size([2, 1105])\n",
      "edge_weights SHAPE : torch.Size([1105])\n",
      "x_t SHAPE : torch.Size([117, 40])\n",
      "edge_index SHAPE : torch.Size([2, 203])\n",
      "edge_weights SHAPE : torch.Size([203])\n",
      "x_t SHAPE : torch.Size([117, 40])\n",
      "edge_index SHAPE : torch.Size([2, 1601])\n",
      "edge_weights SHAPE : torch.Size([1601])\n",
      "x_t SHAPE : torch.Size([117, 40])\n",
      "edge_index SHAPE : torch.Size([2, 1220])\n",
      "edge_weights SHAPE : torch.Size([1220])\n",
      "x_t SHAPE : torch.Size([117, 40])\n",
      "edge_index SHAPE : torch.Size([2, 354])\n",
      "edge_weights SHAPE : torch.Size([354])\n",
      "x_t SHAPE : torch.Size([117, 40])\n",
      "edge_index SHAPE : torch.Size([2, 334])\n",
      "edge_weights SHAPE : torch.Size([334])\n",
      "x_t SHAPE : torch.Size([117, 40])\n",
      "edge_index SHAPE : torch.Size([2, 1573])\n",
      "edge_weights SHAPE : torch.Size([1573])\n",
      "x_t SHAPE : torch.Size([117, 40])\n",
      "edge_index SHAPE : torch.Size([2, 634])\n",
      "edge_weights SHAPE : torch.Size([634])\n",
      "x_t SHAPE : torch.Size([117, 40])\n",
      "edge_index SHAPE : torch.Size([2, 984])\n",
      "edge_weights SHAPE : torch.Size([984])\n",
      "x_t SHAPE : torch.Size([117, 40])\n",
      "edge_index SHAPE : torch.Size([2, 388])\n",
      "edge_weights SHAPE : torch.Size([388])\n",
      "x_t SHAPE : torch.Size([117, 40])\n",
      "edge_index SHAPE : torch.Size([2, 238])\n",
      "edge_weights SHAPE : torch.Size([238])\n",
      "x_t SHAPE : torch.Size([117, 40])\n",
      "edge_index SHAPE : torch.Size([2, 793])\n",
      "edge_weights SHAPE : torch.Size([793])\n",
      "x_t SHAPE : torch.Size([117, 40])\n",
      "edge_index SHAPE : torch.Size([2, 608])\n",
      "edge_weights SHAPE : torch.Size([608])\n",
      "x_t SHAPE : torch.Size([117, 40])\n",
      "edge_index SHAPE : torch.Size([2, 177])\n",
      "edge_weights SHAPE : torch.Size([177])\n",
      "x_t SHAPE : torch.Size([117, 40])\n",
      "edge_index SHAPE : torch.Size([2, 699])\n",
      "edge_weights SHAPE : torch.Size([699])\n",
      "x_t SHAPE : torch.Size([117, 40])\n",
      "edge_index SHAPE : torch.Size([2, 448])\n",
      "edge_weights SHAPE : torch.Size([448])\n",
      "x_t SHAPE : torch.Size([117, 40])\n",
      "edge_index SHAPE : torch.Size([2, 493])\n",
      "edge_weights SHAPE : torch.Size([493])\n",
      "x_t SHAPE : torch.Size([117, 40])\n",
      "edge_index SHAPE : torch.Size([2, 355])\n",
      "edge_weights SHAPE : torch.Size([355])\n",
      "x_t SHAPE : torch.Size([117, 40])\n",
      "edge_index SHAPE : torch.Size([2, 627])\n",
      "edge_weights SHAPE : torch.Size([627])\n",
      "x_t SHAPE : torch.Size([117, 40])\n",
      "edge_index SHAPE : torch.Size([2, 737])\n",
      "edge_weights SHAPE : torch.Size([737])\n",
      "x_t SHAPE : torch.Size([117, 40])\n",
      "edge_index SHAPE : torch.Size([2, 140])\n",
      "edge_weights SHAPE : torch.Size([140])\n",
      "x_t SHAPE : torch.Size([117, 40])\n",
      "edge_index SHAPE : torch.Size([2, 598])\n",
      "edge_weights SHAPE : torch.Size([598])\n",
      "x_t SHAPE : torch.Size([117, 40])\n",
      "edge_index SHAPE : torch.Size([2, 926])\n",
      "edge_weights SHAPE : torch.Size([926])\n",
      "x_t SHAPE : torch.Size([117, 40])\n",
      "edge_index SHAPE : torch.Size([2, 367])\n",
      "edge_weights SHAPE : torch.Size([367])\n",
      "x_t SHAPE : torch.Size([117, 40])\n",
      "edge_index SHAPE : torch.Size([2, 298])\n",
      "edge_weights SHAPE : torch.Size([298])\n",
      "x_t SHAPE : torch.Size([117, 40])\n",
      "edge_index SHAPE : torch.Size([2, 790])\n",
      "edge_weights SHAPE : torch.Size([790])\n",
      "x_t SHAPE : torch.Size([117, 40])\n",
      "edge_index SHAPE : torch.Size([2, 334])\n",
      "edge_weights SHAPE : torch.Size([334])\n",
      "x_t SHAPE : torch.Size([117, 40])\n",
      "edge_index SHAPE : torch.Size([2, 1472])\n",
      "edge_weights SHAPE : torch.Size([1472])\n",
      "x_t SHAPE : torch.Size([117, 40])\n",
      "edge_index SHAPE : torch.Size([2, 642])\n",
      "edge_weights SHAPE : torch.Size([642])\n",
      "x_t SHAPE : torch.Size([117, 40])\n",
      "edge_index SHAPE : torch.Size([2, 953])\n",
      "edge_weights SHAPE : torch.Size([953])\n",
      "x_t SHAPE : torch.Size([117, 40])\n",
      "edge_index SHAPE : torch.Size([2, 211])\n",
      "edge_weights SHAPE : torch.Size([211])\n",
      "x_t SHAPE : torch.Size([117, 40])\n",
      "edge_index SHAPE : torch.Size([2, 822])\n",
      "edge_weights SHAPE : torch.Size([822])\n",
      "x_t SHAPE : torch.Size([117, 40])\n",
      "edge_index SHAPE : torch.Size([2, 316])\n",
      "edge_weights SHAPE : torch.Size([316])\n",
      "x_t SHAPE : torch.Size([117, 40])\n",
      "edge_index SHAPE : torch.Size([2, 666])\n",
      "edge_weights SHAPE : torch.Size([666])\n",
      "x_t SHAPE : torch.Size([117, 40])\n",
      "edge_index SHAPE : torch.Size([2, 902])\n",
      "edge_weights SHAPE : torch.Size([902])\n",
      "x_t SHAPE : torch.Size([117, 40])\n",
      "edge_index SHAPE : torch.Size([2, 541])\n",
      "edge_weights SHAPE : torch.Size([541])\n",
      "x_t SHAPE : torch.Size([117, 40])\n",
      "edge_index SHAPE : torch.Size([2, 873])\n",
      "edge_weights SHAPE : torch.Size([873])\n",
      "x_t SHAPE : torch.Size([117, 40])\n",
      "edge_index SHAPE : torch.Size([2, 519])\n",
      "edge_weights SHAPE : torch.Size([519])\n",
      "x_t SHAPE : torch.Size([117, 40])\n",
      "edge_index SHAPE : torch.Size([2, 319])\n",
      "edge_weights SHAPE : torch.Size([319])\n",
      "x_t SHAPE : torch.Size([117, 40])\n",
      "edge_index SHAPE : torch.Size([2, 997])\n",
      "edge_weights SHAPE : torch.Size([997])\n",
      "x_t SHAPE : torch.Size([117, 40])\n",
      "edge_index SHAPE : torch.Size([2, 385])\n",
      "edge_weights SHAPE : torch.Size([385])\n",
      "x_t SHAPE : torch.Size([117, 40])\n",
      "edge_index SHAPE : torch.Size([2, 562])\n",
      "edge_weights SHAPE : torch.Size([562])\n",
      "x_t SHAPE : torch.Size([117, 40])\n",
      "edge_index SHAPE : torch.Size([2, 1127])\n",
      "edge_weights SHAPE : torch.Size([1127])\n",
      "x_t SHAPE : torch.Size([117, 40])\n",
      "edge_index SHAPE : torch.Size([2, 581])\n",
      "edge_weights SHAPE : torch.Size([581])\n",
      "x_t SHAPE : torch.Size([117, 40])\n",
      "edge_index SHAPE : torch.Size([2, 1002])\n",
      "edge_weights SHAPE : torch.Size([1002])\n",
      "x_t SHAPE : torch.Size([117, 40])\n",
      "edge_index SHAPE : torch.Size([2, 310])\n",
      "edge_weights SHAPE : torch.Size([310])\n",
      "x_t SHAPE : torch.Size([117, 40])\n",
      "edge_index SHAPE : torch.Size([2, 1219])\n",
      "edge_weights SHAPE : torch.Size([1219])\n",
      "x_t SHAPE : torch.Size([117, 40])\n",
      "edge_index SHAPE : torch.Size([2, 416])\n",
      "edge_weights SHAPE : torch.Size([416])\n",
      "x_t SHAPE : torch.Size([117, 40])\n",
      "edge_index SHAPE : torch.Size([2, 482])\n",
      "edge_weights SHAPE : torch.Size([482])\n",
      "x_t SHAPE : torch.Size([117, 40])\n",
      "edge_index SHAPE : torch.Size([2, 801])\n",
      "edge_weights SHAPE : torch.Size([801])\n",
      "x_t SHAPE : torch.Size([117, 40])\n",
      "edge_index SHAPE : torch.Size([2, 571])\n",
      "edge_weights SHAPE : torch.Size([571])\n",
      "x_t SHAPE : torch.Size([117, 40])\n",
      "edge_index SHAPE : torch.Size([2, 230])\n",
      "edge_weights SHAPE : torch.Size([230])\n",
      "x_t SHAPE : torch.Size([117, 40])\n",
      "edge_index SHAPE : torch.Size([2, 689])\n",
      "edge_weights SHAPE : torch.Size([689])\n",
      "x_t SHAPE : torch.Size([117, 40])\n",
      "edge_index SHAPE : torch.Size([2, 718])\n",
      "edge_weights SHAPE : torch.Size([718])\n",
      "x_t SHAPE : torch.Size([117, 40])\n",
      "edge_index SHAPE : torch.Size([2, 438])\n",
      "edge_weights SHAPE : torch.Size([438])\n",
      "x_t SHAPE : torch.Size([117, 40])\n",
      "edge_index SHAPE : torch.Size([2, 771])\n",
      "edge_weights SHAPE : torch.Size([771])\n",
      "x_t SHAPE : torch.Size([117, 40])\n",
      "edge_index SHAPE : torch.Size([2, 96])\n",
      "edge_weights SHAPE : torch.Size([96])\n",
      "x_t SHAPE : torch.Size([117, 40])\n",
      "edge_index SHAPE : torch.Size([2, 519])\n",
      "edge_weights SHAPE : torch.Size([519])\n",
      "x_t SHAPE : torch.Size([117, 40])\n",
      "edge_index SHAPE : torch.Size([2, 628])\n",
      "edge_weights SHAPE : torch.Size([628])\n",
      "x_t SHAPE : torch.Size([117, 40])\n",
      "edge_index SHAPE : torch.Size([2, 178])\n",
      "edge_weights SHAPE : torch.Size([178])\n",
      "x_t SHAPE : torch.Size([117, 40])\n",
      "edge_index SHAPE : torch.Size([2, 582])\n",
      "edge_weights SHAPE : torch.Size([582])\n",
      "x_t SHAPE : torch.Size([117, 40])\n",
      "edge_index SHAPE : torch.Size([2, 602])\n",
      "edge_weights SHAPE : torch.Size([602])\n",
      "x_t SHAPE : torch.Size([117, 40])\n",
      "edge_index SHAPE : torch.Size([2, 519])\n",
      "edge_weights SHAPE : torch.Size([519])\n",
      "x_t SHAPE : torch.Size([117, 40])\n",
      "edge_index SHAPE : torch.Size([2, 861])\n",
      "edge_weights SHAPE : torch.Size([861])\n",
      "x_t SHAPE : torch.Size([117, 40])\n",
      "edge_index SHAPE : torch.Size([2, 198])\n",
      "edge_weights SHAPE : torch.Size([198])\n",
      "x_t SHAPE : torch.Size([117, 40])\n",
      "edge_index SHAPE : torch.Size([2, 282])\n",
      "edge_weights SHAPE : torch.Size([282])\n",
      "x_t SHAPE : torch.Size([117, 40])\n"
     ]
    }
   ],
   "source": [
    "import torch\n",
    "from torch_geometric.nn import GCNConv\n",
    "\n",
    "# Assuming x is your node features with shape (B, T, V, P)\n",
    "# and adj is your weighted adjacency matrix with shape (B, T, V, V)\n",
    "Batch = []\n",
    "\n",
    "gcn_layer = GCNConv(in_channels=Config.K_E, out_channels=Config.K_F)\n",
    "\n",
    "# Iterate over each graph in the batch\n",
    "for i in range(Config.B):\n",
    "    # Extract the adjacency matrix for the current graph\n",
    "    adj_i = weights[i]  # Shape (T, V, V)\n",
    "    out = []\n",
    "    for t in range(Config.T):\n",
    "        # Get the edge indices and weights for the current time step\n",
    "        edge_index = adj_i[t].nonzero(as_tuple=False).T  # Shape (2, E)\n",
    "        edge_weights = adj_i[t][edge_index[0], edge_index[1]]  # Shape (E,)\n",
    "        print(f\"edge_index SHAPE : {edge_index.shape}\")\n",
    "        print(f\"edge_weights SHAPE : {edge_weights.shape}\")\n",
    "        # Select the corresponding node features for the current time step\n",
    "        x_t = SpatialOut[i][t]\n",
    "        print(f\"x_t SHAPE : {x_t.shape}\")\n",
    "        # Apply the GCN layer\n",
    "        x_t = gcn_layer(x_t, edge_index, edge_weight=edge_weights)\n",
    "        # Store the output for the current time step\n",
    "        out.append(x_t)\n",
    "    Batch.append(torch.stack(out))\n",
    "\n",
    "# Stack the output to get the final representation\n",
    "out = torch.stack(Batch)  # Shape will depend on how you structure the output"
   ]
  },
  {
   "cell_type": "code",
   "execution_count": 21,
   "id": "58856b5d-6418-47a2-a454-4555f0c3afd6",
   "metadata": {},
   "outputs": [
    {
     "data": {
      "text/plain": [
       "torch.Size([2, 105, 117, 40])"
      ]
     },
     "execution_count": 21,
     "metadata": {},
     "output_type": "execute_result"
    }
   ],
   "source": [
    "out.shape"
   ]
  },
  {
   "cell_type": "code",
   "execution_count": 1,
   "id": "bf6d23d6-e344-47d8-8d48-f6be8eeb355b",
   "metadata": {},
   "outputs": [
    {
     "name": "stderr",
     "output_type": "stream",
     "text": [
      "/usr/local/lib/python3.10/dist-packages/tqdm/auto.py:21: TqdmWarning: IProgress not found. Please update jupyter and ipywidgets. See https://ipywidgets.readthedocs.io/en/stable/user_install.html\n",
      "  from .autonotebook import tqdm as notebook_tqdm\n"
     ]
    }
   ],
   "source": [
    "### Write the Main Class\n",
    "from SplitWindows import SplitWindows\n",
    "from AttentionArea import TemporalAttention\n",
    "from AttentionArea import SpatialAttention\n",
    "from AttentionArea import DynamicMatrix\n",
    "from torch_geometric.nn import GCNConv\n",
    "from AttentionArea import AttentionBlock\n",
    "from Config import CONFIG\n",
    "from Dataset import TimeSDataset\n",
    "import numpy as np\n",
    "import pandas as pd \n",
    "import torch\n",
    "from torch import nn\n",
    "from torch_geometric.nn import GCNConv\n",
    "Dataset = TimeSDataset(\"../Data/AAL/\",\"Gender\",label_path=\"../Data/Behavioral-HCP.csv\")\n",
    "Config = CONFIG()\n",
    "data , label = next(iter(Dataset))\n",
    "data = torch.stack([data,data])\n",
    "class DynDeepNet(nn.Module):\n",
    "    def __init__(self ):\n",
    "        super().__init__()\n",
    "        # Define Clf token\n",
    "        self.CLFToken = np.random.rand(1, Config.T_prim, 1)\n",
    "        # Define Temporal Attention\n",
    "        self.TAttention = TemporalAttention (Config.NUM_H ,Config.V * Config.K_E , Config.HIDDEN_DIM)\n",
    "        # Define Spatial Attention \n",
    "        self.SAttention = SpatialAttention()\n",
    "        # Define Dynamic Matrix\n",
    "        self.Dm = DynamicMatrix()\n",
    "        # Define GCN Layer\n",
    "        self.gcn_layer = GCNConv(in_channels=Config.K_E, out_channels=Config.K_F)\n",
    "        # Define Final Encoder layers\n",
    "        self.Transformer = nn.Sequential(*[AttentionBlock(Config.T * Config.K_F, Config.HIDDEN_DIM, Config.NUM_H, Config.DROP_OUT) for _ in range(Config.NUM_LAYER)])\n",
    "        self.Mlp_head = nn.Sequential(\n",
    "            nn.LayerNorm(Config.T * Config.K_F),\n",
    "            nn.Linear(Config.T * Config.K_F, Config.NUM_CLASS)\n",
    "            # torch.nn.Softmax(dim=1)\n",
    "        )\n",
    "        self.Dropout = nn.Dropout(Config.DROP_OUT)\n",
    "        self.Flatten = nn.Flatten(2,-1)\n",
    "    def forward(self,x):\n",
    "        ### Input : (B , T_Prim , V)\n",
    "        \n",
    "        ## ADD CLF TOKEN\n",
    "        self.CLFToken = np.repeat(self.CLFToken, Config.B, axis=0)\n",
    "        x = np.concatenate([self.CLFToken, x], axis=-1)\n",
    "        \n",
    "        ## Convert Signal Serie to the Window Signal\n",
    "        x = SplitWindows(x)  ## OutPut : (B , T , V ,P)\n",
    "        ## Temporal Transformer\n",
    "        x = self.TAttention(x)  ## OutPut : (B , T , V , K_E)\n",
    "        ## Spatial Attention\n",
    "        x = self.SAttention(x)    ## OutPut : (B , T , V , K_E)\n",
    "        # Apply Drop out\n",
    "        x = self.Dropout(x)\n",
    "        ## Dynamic Matrix\n",
    "        A = self.Dm(x)           ## OutPut  : (B , T , V , V)\n",
    "        ## GCN Layer\n",
    "        BatchList = []\n",
    "        # Iterate over each graph in the batch\n",
    "        for i in range(Config.B):\n",
    "            # Extract the adjacency matrix for the current graph\n",
    "            adj_i = A[i]  # Shape (T, V, V)\n",
    "            out = []\n",
    "            for t in range(Config.T):\n",
    "                # Get the edge indices and weights for the current time step\n",
    "                edge_index = adj_i[t].nonzero(as_tuple=False).T  # Shape (2, E)\n",
    "                edge_weights = adj_i[t][edge_index[0], edge_index[1]]  # Shape (E,)\n",
    "                # Select the corresponding node features for the current time step\n",
    "                x_t = x[i][t]\n",
    "                # Apply the GCN layer\n",
    "                x_t = self.gcn_layer(x_t, edge_index, edge_weight=edge_weights)\n",
    "                # Store the output for the current time step\n",
    "                out.append(x_t)\n",
    "            BatchList.append(torch.stack(out))\n",
    "        \n",
    "        # Stack the output to get the final representation\n",
    "        x = torch.stack(BatchList)  ## OUTPUT : (B , T , V , K_F) \n",
    "        # Transpose\n",
    "        x = x.transpose(1,2)  ## OUTPUT : (B , V , T , K_F)\n",
    "        # Flatten\n",
    "        x = self.Flatten(x)  ## OUTPUT  : (B , V , T * K_F)\n",
    "        # Drop Out\n",
    "        x = self.Dropout(x)\n",
    "        # Apply Final Encoder\n",
    "        x = x.transpose(0,1)\n",
    "        x = self.Transformer(x)   ## OUTPUT : (V , B , T * K_F)\n",
    "        # Apply Linear Head\n",
    "        cls = x[0]\n",
    "        return self.Mlp_head(cls)\n",
    "\n",
    "Model = DynDeepNet()\n",
    "        "
   ]
  },
  {
   "cell_type": "code",
   "execution_count": 2,
   "id": "2d48d05b-5276-4388-897a-3b107f7f4638",
   "metadata": {},
   "outputs": [],
   "source": [
    "out = Model(data)"
   ]
  },
  {
   "cell_type": "code",
   "execution_count": 4,
   "id": "7de0723c-7ec1-4ec1-9644-ce9a6e92115f",
   "metadata": {},
   "outputs": [
    {
     "data": {
      "text/plain": [
       "torch.Size([2, 2])"
      ]
     },
     "execution_count": 4,
     "metadata": {},
     "output_type": "execute_result"
    }
   ],
   "source": [
    "out.shape"
   ]
  },
  {
   "cell_type": "code",
   "execution_count": null,
   "id": "753a4b14-67a8-4899-b9e5-21cbc85a8db1",
   "metadata": {},
   "outputs": [],
   "source": []
  }
 ],
 "metadata": {
  "kernelspec": {
   "display_name": "Python 3 (ipykernel)",
   "language": "python",
   "name": "python3"
  },
  "language_info": {
   "codemirror_mode": {
    "name": "ipython",
    "version": 3
   },
   "file_extension": ".py",
   "mimetype": "text/x-python",
   "name": "python",
   "nbconvert_exporter": "python",
   "pygments_lexer": "ipython3",
   "version": "3.10.12"
  }
 },
 "nbformat": 4,
 "nbformat_minor": 5
}
