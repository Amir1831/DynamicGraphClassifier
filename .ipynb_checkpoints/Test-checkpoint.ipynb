{
 "cells": [
  {
   "cell_type": "code",
   "execution_count": 1,
   "id": "ac9b6017-1454-4f60-9dd2-470c748a45c9",
   "metadata": {},
   "outputs": [],
   "source": [
    "import numpy as np\n",
    "import pandas as pd \n",
    "import torch\n",
    "from torch import nn\n",
    "time = np.loadtxt(\"../Data/AAL/100408_timeseries.txt\")"
   ]
  },
  {
   "cell_type": "code",
   "execution_count": 2,
   "id": "d887e774-82ea-41a0-857e-69f6cb889d83",
   "metadata": {},
   "outputs": [
    {
     "data": {
      "text/plain": [
       "(1200, 116)"
      ]
     },
     "execution_count": 2,
     "metadata": {},
     "output_type": "execute_result"
    }
   ],
   "source": [
    "time.shape"
   ]
  },
  {
   "cell_type": "code",
   "execution_count": 3,
   "id": "f86511be-9076-4648-b3c5-7791db5d7659",
   "metadata": {},
   "outputs": [],
   "source": [
    "from Dataset import TimeSDataset\n",
    "Dataset = TimeSDataset(\"../Data/AAL/\",\"Gender\",label_path=\"../Data/Behavioral-HCP.csv\")"
   ]
  },
  {
   "cell_type": "code",
   "execution_count": 4,
   "id": "eb6a0603-4837-417a-8c28-5ae8410617ba",
   "metadata": {},
   "outputs": [
    {
     "data": {
      "text/plain": [
       "(torch.Size([2, 1200, 116]), tensor(1))"
      ]
     },
     "execution_count": 4,
     "metadata": {},
     "output_type": "execute_result"
    }
   ],
   "source": [
    "data , label = next(iter(Dataset))\n",
    "data = torch.stack([data,data])\n",
    "data.shape , label"
   ]
  },
  {
   "cell_type": "code",
   "execution_count": 5,
   "id": "d8f24530-f735-464b-a0f4-ced57705fd21",
   "metadata": {},
   "outputs": [
    {
     "data": {
      "text/plain": [
       "torch.Size([])"
      ]
     },
     "execution_count": 5,
     "metadata": {},
     "output_type": "execute_result"
    }
   ],
   "source": [
    "label.shape"
   ]
  },
  {
   "cell_type": "code",
   "execution_count": 6,
   "id": "5457ffc1-713b-4ec8-9c39-7f3d28568f6a",
   "metadata": {
    "scrolled": true
   },
   "outputs": [],
   "source": [
    "from Config import Config\n",
    "from SplitWindows import SplitWindows\n",
    "import torch\n",
    "SplitedSeries = SplitWindows(data)"
   ]
  },
  {
   "cell_type": "code",
   "execution_count": 7,
   "id": "c2092a40-d2c3-4052-995e-9f21cd9d2a4f",
   "metadata": {},
   "outputs": [
    {
     "data": {
      "text/plain": [
       "torch.Size([2, 11, 20, 116])"
      ]
     },
     "execution_count": 7,
     "metadata": {},
     "output_type": "execute_result"
    }
   ],
   "source": [
    "SplitedSeries.shape   # ( B , T , P , V )"
   ]
  },
  {
   "cell_type": "code",
   "execution_count": 8,
   "id": "fd9b6970-f1d2-4f54-ac6f-f81c87791545",
   "metadata": {},
   "outputs": [
    {
     "data": {
      "text/plain": [
       "11"
      ]
     },
     "execution_count": 8,
     "metadata": {},
     "output_type": "execute_result"
    }
   ],
   "source": [
    "Config.T"
   ]
  },
  {
   "cell_type": "code",
   "execution_count": 9,
   "id": "680b5918-7f82-4812-9d6d-52f003cf869f",
   "metadata": {},
   "outputs": [],
   "source": [
    "from AttentionArea import TemporalAttention , SpatialAttention\n",
    "TAttention = TemporalAttention (8 ,Config.V * Config.K_E , 32 )"
   ]
  },
  {
   "cell_type": "code",
   "execution_count": 10,
   "id": "19c9e62e-3074-4658-9bdb-06b22227e2c4",
   "metadata": {},
   "outputs": [
    {
     "data": {
      "text/plain": [
       "(torch.Size([2, 11, 40, 116]), torch.Size([2, 11, 11]))"
      ]
     },
     "execution_count": 10,
     "metadata": {},
     "output_type": "execute_result"
    }
   ],
   "source": [
    "Temporal_output , weights = TAttention(SplitedSeries)\n",
    "# (B , T , K_E , V)\n",
    "Temporal_output.shape , weights.shape"
   ]
  },
  {
   "cell_type": "code",
   "execution_count": 11,
   "id": "ad9c321d-8a1d-46f0-af28-c50a493d13af",
   "metadata": {},
   "outputs": [],
   "source": [
    "# Spatial_output = SAttention(Temporal_output)"
   ]
  },
  {
   "cell_type": "code",
   "execution_count": 12,
   "id": "0d0b216c-f19e-407f-ab94-afeaa636a7b8",
   "metadata": {},
   "outputs": [
    {
     "data": {
      "text/plain": [
       "4640"
      ]
     },
     "execution_count": 12,
     "metadata": {},
     "output_type": "execute_result"
    }
   ],
   "source": [
    "Config.V * Config.K_E \n"
   ]
  },
  {
   "cell_type": "code",
   "execution_count": 13,
   "id": "48e2c2e9-90d1-4a37-be19-641a8b8b4fd7",
   "metadata": {},
   "outputs": [
    {
     "data": {
      "text/plain": [
       "torch.Size([2, 11, 116, 116])"
      ]
     },
     "execution_count": 13,
     "metadata": {},
     "output_type": "execute_result"
    }
   ],
   "source": [
    "from AttentionArea import DynamicMatrix\n",
    "DM = DynamicMatrix()\n",
    "weights = DM(Temporal_output)\n",
    "weights.shape"
   ]
  },
  {
   "cell_type": "code",
   "execution_count": null,
   "id": "f4d40853-4e05-4a4a-9092-271386de2eb9",
   "metadata": {},
   "outputs": [],
   "source": []
  }
 ],
 "metadata": {
  "kernelspec": {
   "display_name": "Python 3 (ipykernel)",
   "language": "python",
   "name": "python3"
  },
  "language_info": {
   "codemirror_mode": {
    "name": "ipython",
    "version": 3
   },
   "file_extension": ".py",
   "mimetype": "text/x-python",
   "name": "python",
   "nbconvert_exporter": "python",
   "pygments_lexer": "ipython3",
   "version": "3.10.12"
  }
 },
 "nbformat": 4,
 "nbformat_minor": 5
}
